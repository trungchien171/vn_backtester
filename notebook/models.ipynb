{
 "cells": [
  {
   "cell_type": "code",
   "execution_count": 1,
   "metadata": {},
   "outputs": [
    {
     "data": {
      "text/plain": [
       "'D:\\\\github\\\\vn_backtester'"
      ]
     },
     "execution_count": 1,
     "metadata": {},
     "output_type": "execute_result"
    }
   ],
   "source": [
    "import os\n",
    "os.chdir(\"D:\\\\github\\\\vn_backtester\")\n",
    "os.getcwd()"
   ]
  },
  {
   "cell_type": "code",
   "execution_count": 2,
   "metadata": {},
   "outputs": [],
   "source": [
    "import pandas as pd\n",
    "import numpy as np\n",
    "\n",
    "__closepath__ = 'data/vn_stock/price_volume/close_matrix_top30_20120101-20240101.txt'\n",
    "__openpath__ = 'data/vn_stock/price_volume/open_matrix_top30_20120101-20240101.txt'\n",
    "__highpath__ = 'data/vn_stock/price_volume/high_matrix_top30_20120101-20240101.txt'\n",
    "__lowpath__ = 'data/vn_stock/price_volume/low_matrix_top30_20120101-20240101.txt'\n",
    "__volumepath = 'data/vn_stock/price_volume/volume_matrix_top30_20120101-20240101.txt'\n",
    "\n",
    "def load_and_process_data(file_path):\n",
    "    df = pd.read_csv(file_path, sep='\\t')\n",
    "    df.set_index('time', inplace=True)\n",
    "    df = df.astype(float)\n",
    "    return df\n",
    "\n",
    "close = load_and_process_data(__closepath__)\n",
    "open = load_and_process_data(__openpath__)\n",
    "high = load_and_process_data(__highpath__)\n",
    "low = load_and_process_data(__lowpath__)\n",
    "volume = load_and_process_data(__volumepath)"
   ]
  }
 ],
 "metadata": {
  "kernelspec": {
   "display_name": "min_ds-env",
   "language": "python",
   "name": "python3"
  },
  "language_info": {
   "codemirror_mode": {
    "name": "ipython",
    "version": 3
   },
   "file_extension": ".py",
   "mimetype": "text/x-python",
   "name": "python",
   "nbconvert_exporter": "python",
   "pygments_lexer": "ipython3",
   "version": "3.8.19"
  }
 },
 "nbformat": 4,
 "nbformat_minor": 2
}
